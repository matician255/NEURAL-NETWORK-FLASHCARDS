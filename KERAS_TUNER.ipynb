{
  "nbformat": 4,
  "nbformat_minor": 0,
  "metadata": {
    "colab": {
      "provenance": [],
      "authorship_tag": "ABX9TyPPd4rieoU+5pdqJf3mlLfL",
      "include_colab_link": true
    },
    "kernelspec": {
      "name": "python3",
      "display_name": "Python 3"
    },
    "language_info": {
      "name": "python"
    }
  },
  "cells": [
    {
      "cell_type": "markdown",
      "metadata": {
        "id": "view-in-github",
        "colab_type": "text"
      },
      "source": [
        "<a href=\"https://colab.research.google.com/github/matician255/NEURAL-NETWORK-STRUCTURE/blob/main/KERAS_TUNER.ipynb\" target=\"_parent\"><img src=\"https://colab.research.google.com/assets/colab-badge.svg\" alt=\"Open In Colab\"/></a>"
      ]
    },
    {
      "cell_type": "markdown",
      "source": [
        "HYPERPARAMETER TUNING WITH KERAS TUNER"
      ],
      "metadata": {
        "id": "e73oFZ88PLsv"
      }
    },
    {
      "cell_type": "code",
      "source": [
        "!pip install -q -U keras-tuner"
      ],
      "metadata": {
        "colab": {
          "base_uri": "https://localhost:8080/"
        },
        "id": "otBlcDE0PdKt",
        "outputId": "3ba0a196-b571-40b7-95ca-d8f97ebb2908"
      },
      "execution_count": 2,
      "outputs": [
        {
          "output_type": "stream",
          "name": "stdout",
          "text": [
            "\u001b[?25l   \u001b[90m━━━━━━━━━━━━━━━━━━━━━━━━━━━━━━━━━━━━━━━━\u001b[0m \u001b[32m0.0/129.1 kB\u001b[0m \u001b[31m?\u001b[0m eta \u001b[36m-:--:--\u001b[0m\r\u001b[2K   \u001b[90m━━━━━━━━━━━━━━━━━━━━━━━━━━━━━━━━━━━━━━━━\u001b[0m \u001b[32m129.1/129.1 kB\u001b[0m \u001b[31m6.7 MB/s\u001b[0m eta \u001b[36m0:00:00\u001b[0m\n",
            "\u001b[?25h"
          ]
        }
      ]
    },
    {
      "cell_type": "code",
      "source": [
        "import keras_tuner as kt\n",
        "import tensorflow as tf\n",
        "from tensorflow import keras\n",
        "from tensorflow.keras import layers"
      ],
      "metadata": {
        "id": "624wEc58RMj4"
      },
      "execution_count": 5,
      "outputs": []
    },
    {
      "cell_type": "code",
      "source": [
        "def model_test(hp):\n",
        "  hp_units = hp.Int('units', min_value=32, max_value=512, step=32),\n",
        "  hp_learning_rate = hp.Choice('learning_rate', values=[1e-2, 1e-3, 1e-4])\n",
        "  model = tf.keras.Sequential([\n",
        "      layers.Dense(units=hp_units, activation='relu'),\n",
        "      layers.Dense(units=hp_units, activation='relu'),\n",
        "      layers.Dense(1, activation='sigmoid')\n",
        "\n",
        "  ])\n",
        "\n",
        "  optimizer = tf.keras.optimizers.Adam(learning_rate=hp_learning_rate)\n",
        "  model.compile(\n",
        "      optimizer=optimizer,\n",
        "      loss=keras.losses.BinaryCrossentropy(from_logits=True),\n",
        "      metrics=['accuracy']\n",
        "  )\n",
        "  return model\n",
        "\n",
        "  #instantiate the tuner and perform hypertuning\n",
        "\n",
        "  tuner = kt.Hyperband(\n",
        "      model_test,\n",
        "      objective='val_accuracy',\n",
        "      max_epoch=10,\n",
        "      factor=3,\n",
        "      directory='my_dir',\n",
        "      project_name='intro_to_kt'\n",
        "\n",
        "  )\n",
        "\n",
        "  tuner.search(x_train, y_train, epoch=50, validation_split=0.2)\n",
        "  best_hps=tuner.get_best_hyperparameters(num_trials=1)[0]\n",
        "\n",
        "  print(f\"\"\"\n",
        "  The hyperparameter search is complete. The optimal number of units in the\n",
        "   first densely-connected layer is {best_hps.get('units')} and the optimal\n",
        "   learning rate for the optimizeris {best_hps.get('learning_rate')}.\"\"\")"
      ],
      "metadata": {
        "id": "-UzN7RzBRSnW"
      },
      "execution_count": null,
      "outputs": []
    }
  ]
}