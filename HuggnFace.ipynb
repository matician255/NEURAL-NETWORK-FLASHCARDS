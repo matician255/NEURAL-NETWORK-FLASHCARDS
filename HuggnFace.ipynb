{
  "nbformat": 4,
  "nbformat_minor": 0,
  "metadata": {
    "colab": {
      "provenance": [],
      "authorship_tag": "ABX9TyMCuj2RJl+Hmo5zpnLTpogH",
      "include_colab_link": true
    },
    "kernelspec": {
      "name": "python3",
      "display_name": "Python 3"
    },
    "language_info": {
      "name": "python"
    }
  },
  "cells": [
    {
      "cell_type": "markdown",
      "metadata": {
        "id": "view-in-github",
        "colab_type": "text"
      },
      "source": [
        "<a href=\"https://colab.research.google.com/github/matician255/NEURAL-NETWORK-FLASHCARDS/blob/main/HuggnFace.ipynb\" target=\"_parent\"><img src=\"https://colab.research.google.com/assets/colab-badge.svg\" alt=\"Open In Colab\"/></a>"
      ]
    },
    {
      "cell_type": "markdown",
      "source": [
        "HOW TO EXTRACT DATASET FROM HUGGING FACE"
      ],
      "metadata": {
        "id": "DjRzE5uiXDvB"
      }
    },
    {
      "cell_type": "code",
      "execution_count": null,
      "metadata": {
        "id": "l9p7vC1BXCJm"
      },
      "outputs": [],
      "source": [
        "#!pip install -U datasets huggingface_hub\n",
        "from datasets import load_dataset, disable_caching\n",
        "from huggingface_hub import login\n",
        "\n",
        "login()  # Will prompt for token\n",
        "disable_caching()  # Disable problematic caching\n",
        "\n",
        "dataset = load_dataset(\n",
        "    \"oscar\",\n",
        "    name=\"unshuffled_deduplicated_sw\",\n",
        "    split=\"train\",\n",
        "    token=True,\n",
        "    trust_remote_code=True\n",
        ")\n",
        "\n",
        "# Extract all text entries and save to file\n",
        "with open(\"swahili_oscar.txt\", \"w\", encoding=\"utf-8\") as f:\n",
        "    for example in dataset:\n",
        "        text = example[\"text\"]\n",
        "        # Optional: Add basic cleaning\n",
        "        text = text.replace(\"<br />\", \"\\n\")  # Remove HTML line breaks\n",
        "        f.write(text + \"\\n\")  # Add newline between documents\n",
        "\n",
        "print(f\"Saved {len(dataset)} documents to swahili_oscar.txt\")\n",
        "\n"
      ]
    }
  ]
}