{
  "nbformat": 4,
  "nbformat_minor": 0,
  "metadata": {
    "colab": {
      "provenance": [],
      "authorship_tag": "ABX9TyPMB6ZoZrUX41Fcpgpgo3Cl",
      "include_colab_link": true
    },
    "kernelspec": {
      "name": "python3",
      "display_name": "Python 3"
    },
    "language_info": {
      "name": "python"
    }
  },
  "cells": [
    {
      "cell_type": "markdown",
      "metadata": {
        "id": "view-in-github",
        "colab_type": "text"
      },
      "source": [
        "<a href=\"https://colab.research.google.com/github/matician255/NEURAL-NETWORK-STRUCTURE/blob/main/python%20basics%20in%20NN.ipynb\" target=\"_parent\"><img src=\"https://colab.research.google.com/assets/colab-badge.svg\" alt=\"Open In Colab\"/></a>"
      ]
    },
    {
      "cell_type": "markdown",
      "source": [
        "PYTHON BASICS WITH NUMPY"
      ],
      "metadata": {
        "id": "iMtEq3IywJBW"
      }
    },
    {
      "cell_type": "markdown",
      "source": [
        "1.SIGMOID FUNCTION"
      ],
      "metadata": {
        "id": "ox_0LJ5SwP_c"
      }
    },
    {
      "cell_type": "code",
      "source": [
        "import numpy as np\n",
        "\n",
        "# sigmoid function\n",
        "def sigmoid(z):\n",
        "  s = 1 / (1 + np.exp(-z))\n",
        "\n",
        "  return s\n"
      ],
      "metadata": {
        "id": "WxOUD6e-wY4m"
      },
      "execution_count": null,
      "outputs": []
    },
    {
      "cell_type": "markdown",
      "source": [
        "2. SIGMOID DERIVATIVE"
      ],
      "metadata": {
        "id": "b5EcZlOwxvKs"
      }
    },
    {
      "cell_type": "code",
      "source": [
        "def sigmoid_derv(x):\n",
        "  s = sigmoid(x)\n",
        "  ds = s * (1 - s)\n",
        "\n",
        "  return ds\n",
        ""
      ],
      "metadata": {
        "id": "mltn_Ymtx0X4"
      },
      "execution_count": null,
      "outputs": []
    },
    {
      "cell_type": "markdown",
      "source": [
        "RESHAPING ARRAYS"
      ],
      "metadata": {
        "id": "SbCaM24oysTe"
      }
    },
    {
      "cell_type": "markdown",
      "source": [
        "1. IMAGE TO VECTOR"
      ],
      "metadata": {
        "id": "takxoQ_9yx9_"
      }
    },
    {
      "cell_type": "code",
      "source": [
        "def img2vec(img):\n",
        "  vec = img.reshape(img.shape[0]* img.shape[1]* img.shape[2],1)\n",
        "\n",
        "  return vec"
      ],
      "metadata": {
        "id": "WNbSMnDWy0Oi"
      },
      "execution_count": null,
      "outputs": []
    },
    {
      "cell_type": "markdown",
      "source": [
        "NORMALIZING ROWS :\n",
        "This leads to beter perfomance because gradient descent converges faster after normalization"
      ],
      "metadata": {
        "id": "6klTzh9lzO41"
      }
    },
    {
      "cell_type": "code",
      "source": [
        "def norm_row(x):\n",
        "  x_norm = np.linalg.norm(x, ord=2, axis=1, keepdims=True)\n",
        "  x = x / x_norm\n",
        "\n",
        "  return x\n",
        "\n",
        "  #incase of normalizng columns then axis = 0\n",
        ""
      ],
      "metadata": {
        "id": "ZHrDWOk00KO6"
      },
      "execution_count": null,
      "outputs": []
    },
    {
      "cell_type": "markdown",
      "source": [
        "SOFTMAX : Is just a normalizing function used when the algorithm is used to classify two or more classes"
      ],
      "metadata": {
        "id": "ANYx_1iR1MLX"
      }
    },
    {
      "cell_type": "code",
      "source": [
        "def softmax(x):\n",
        "  x_exp = np.exp(-x)\n",
        "  x_sum = np.sum(x_exp, axis = 1, keepdims = True)\n",
        "  s = x_exp / x_sum\n",
        "\n",
        "  return s"
      ],
      "metadata": {
        "id": "NUDKLDLO1X0s"
      },
      "execution_count": null,
      "outputs": []
    }
  ]
}