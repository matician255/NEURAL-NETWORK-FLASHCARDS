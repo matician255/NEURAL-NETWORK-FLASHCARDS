{
  "nbformat": 4,
  "nbformat_minor": 0,
  "metadata": {
    "colab": {
      "provenance": [],
      "authorship_tag": "ABX9TyMvqn+cruvCcQFK4gyeoqO5",
      "include_colab_link": true
    },
    "kernelspec": {
      "name": "python3",
      "display_name": "Python 3"
    },
    "language_info": {
      "name": "python"
    }
  },
  "cells": [
    {
      "cell_type": "markdown",
      "metadata": {
        "id": "view-in-github",
        "colab_type": "text"
      },
      "source": [
        "<a href=\"https://colab.research.google.com/github/matician255/NEURAL-NETWORK-STRUCTURE/blob/main/he_initialization.ipynb\" target=\"_parent\"><img src=\"https://colab.research.google.com/assets/colab-badge.svg\" alt=\"Open In Colab\"/></a>"
      ]
    },
    {
      "cell_type": "markdown",
      "source": [
        "HE INITILIZATION TECHNIQUE"
      ],
      "metadata": {
        "id": "30D5DhiYMf2S"
      }
    },
    {
      "cell_type": "markdown",
      "source": [
        "Finally, try \"He Initialization\"; this is named for the first author of He et al., 2015. (If you have heard of \"Xavier initialization\", this is similar except Xavier initialization uses a scaling factor for the weights  W[l]  of sqrt(1./layers_dims[l-1]) where He initialization would use sqrt(2./layers_dims[l-1]).)"
      ],
      "metadata": {
        "id": "8EH4DDNtMpNK"
      }
    },
    {
      "cell_type": "markdown",
      "source": [
        " He initialization is recommended for layers with a ReLU activation."
      ],
      "metadata": {
        "id": "3YMSOE7jM5I0"
      }
    },
    {
      "cell_type": "code",
      "source": [
        "def initialize_parameters_he(layer_dims):\n",
        "  parameters = {}\n",
        "  L = len(layers_dims)\n",
        "\n",
        "  parameters['W' + str(l)] = np.random.randn(layers_dims[l], layers_dims[l-1]) * np.sqrt(2/layers_dims[l-1])\n",
        "  parameters['b' + str(l)] = np.zeros((layers_dims[l], 1))\n",
        "\n",
        "  return parameters\n"
      ],
      "metadata": {
        "id": "rFdnyBfVMxNX"
      },
      "execution_count": null,
      "outputs": []
    }
  ]
}