{
  "nbformat": 4,
  "nbformat_minor": 0,
  "metadata": {
    "colab": {
      "provenance": [],
      "authorship_tag": "ABX9TyOeuOhiRbL2W9sQlWpVf0bv",
      "include_colab_link": true
    },
    "kernelspec": {
      "name": "python3",
      "display_name": "Python 3"
    },
    "language_info": {
      "name": "python"
    }
  },
  "cells": [
    {
      "cell_type": "markdown",
      "metadata": {
        "id": "view-in-github",
        "colab_type": "text"
      },
      "source": [
        "<a href=\"https://colab.research.google.com/github/matician255/NEURAL-NETWORK-FLASHCARDS/blob/main/3d_image_augumentation.ipynb\" target=\"_parent\"><img src=\"https://colab.research.google.com/assets/colab-badge.svg\" alt=\"Open In Colab\"/></a>"
      ]
    },
    {
      "cell_type": "code",
      "source": [
        "def apply_augmentation(self, X_batch, y_batch):\n",
        "    \"\"\"Enhanced 3D augmentation pipeline\"\"\"\n",
        "    B, H, W, D, C = X_batch.shape\n",
        "    # 1. Spatial transformations (both X and y)\n",
        "    # Random flips (25% chance per axis)\n",
        "    for axis in [1, 2, 3]:\n",
        "        if np.random.rand() < 0.25:\n",
        "            X_batch = np.flip(X_batch, axis=axis)\n",
        "            y_batch = np.flip(y_batch, axis=axis)\n",
        "\n",
        "    # Random 90° rotations (multiple planes)\n",
        "    k = np.random.randint(0, 4)\n",
        "    rot_axes = np.random.choice([[1,2], [1,3], [2,3]])  # Multiple planes\n",
        "    X_batch = np.rot90(X_batch, k=k, axes=rot_axes)\n",
        "    y_batch = np.rot90(y_batch, k=k, axes=rot_axes)\n",
        "\n",
        "    # Random translation (±5% of volume size)\n",
        "    max_shift = (int(0.05*H), int(0.05*W), int(0.05*D))\n",
        "    shifts = [np.random.randint(-m, m+1) for m in max_shift]\n",
        "    X_batch = np.roll(X_batch, shift=shifts, axis=(1,2,3))\n",
        "    y_batch = np.roll(y_batch, shift=shifts, axis=(1,2,3))\n",
        "\n",
        "    # 2. Intensity transformations (X only)\n",
        "    # Gaussian noise\n",
        "    if np.random.rand() < 0.3:\n",
        "        noise = np.random.normal(0, 0.05, X_batch.shape)\n",
        "        X_batch = np.clip(X_batch + noise, 0, 1)\n",
        "\n",
        "    # Gamma correction (non-linear intensity)\n",
        "    gamma = np.random.uniform(0.7, 1.3)\n",
        "    X_batch = np.power(X_batch, gamma)\n",
        "\n",
        "    return X_batch, y_batch"
      ],
      "metadata": {
        "id": "Hune-PTvsjeu"
      },
      "execution_count": null,
      "outputs": []
    }
  ]
}