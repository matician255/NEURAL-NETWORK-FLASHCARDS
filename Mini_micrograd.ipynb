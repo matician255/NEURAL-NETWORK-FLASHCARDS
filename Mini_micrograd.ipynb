{
  "nbformat": 4,
  "nbformat_minor": 0,
  "metadata": {
    "colab": {
      "provenance": [],
      "authorship_tag": "ABX9TyMlkolyq65WH9t/IXlMtjUM",
      "include_colab_link": true
    },
    "kernelspec": {
      "name": "python3",
      "display_name": "Python 3"
    },
    "language_info": {
      "name": "python"
    }
  },
  "cells": [
    {
      "cell_type": "markdown",
      "metadata": {
        "id": "view-in-github",
        "colab_type": "text"
      },
      "source": [
        "<a href=\"https://colab.research.google.com/github/matician255/NEURAL-NETWORK-FLASHCARDS/blob/main/Mini_micrograd.ipynb\" target=\"_parent\"><img src=\"https://colab.research.google.com/assets/colab-badge.svg\" alt=\"Open In Colab\"/></a>"
      ]
    },
    {
      "cell_type": "code",
      "execution_count": 113,
      "metadata": {
        "id": "U8ijp-fv2yqn"
      },
      "outputs": [],
      "source": [
        "import math\n",
        "class Value:  #THIS IS LIKE A BLLUEPRINT FOR CREATING OBJECTS THAT WORK WITH DATA\n",
        "    \"\"\"\n",
        "    self: refers to the object created\n",
        "    data: the value that is passed when an object is created\n",
        "    \"\"\"\n",
        "    def __init__(self, data, _children=(), _op=\"\", label=''): # this is a constructor method that automatically runs when an object is created\n",
        "        self.data = data     # this stores the value inside an object\n",
        "        self.grad = 0.0\n",
        "        self._backward = lambda: None\n",
        "        self._prev = set(_children)\n",
        "        self._op = _op\n",
        "        self.label = label\n",
        "\n",
        "    def __repr__(self): # this defines how the object should be representated(string representation ) when printing the output\n",
        "        return f\"Value(data={self.data})\"\n",
        "\n",
        "    def __add__(self, other): # is like a magic method that defines how + operator works for Value objects\n",
        "        other = other if isinstance (other, Value) else Value(other)\n",
        "        out = Value(self.data + other.data, (self, other), \"+\")\n",
        "\n",
        "\n",
        "        def _backward():\n",
        "          self.grad += 1.0 * out.grad\n",
        "          other.grad += 1.0 * out.grad\n",
        "        out._backward = _backward\n",
        "        return out\n",
        "\n",
        "    def __radd__(self, other):\n",
        "      return self + other\n",
        "\n",
        "\n",
        "    def __neg__(self):\n",
        "      return self * -1\n",
        "\n",
        "    def __sub__(self, other):\n",
        "      return self + (-other)\n",
        "\n",
        "    def __pow__(self, other):\n",
        "      assert isinstance(other, (int, float)), \"only supporting integers/float for now\"\n",
        "      out = Value(self.data**other, (self, ), f'**{other}')\n",
        "\n",
        "      def _backward():\n",
        "        self.grad += other * (self.data ** (other - 1)) * out.grad\n",
        "      out._backward = _backward\n",
        "\n",
        "      return out\n",
        "\n",
        "    def __mul__(self, other):\n",
        "        other = other if isinstance(other, Value) else Value(other)\n",
        "        out = Value(self.data * other.data, (self, other), \"*\")\n",
        "\n",
        "\n",
        "        def _backward():\n",
        "          self.grad += other.data * out.grad\n",
        "          other.grad += self.data * out.grad\n",
        "        out._backward = _backward\n",
        "\n",
        "        return out\n",
        "\n",
        "    def __rmul__(self, other):\n",
        "        return self * other\n",
        "\n",
        "    def __truediv__(self, other):\n",
        "      return self * other**-1\n",
        "\n",
        "    def tanh(self):\n",
        "        x = self.data\n",
        "        t = (math.exp(2*x) - 1)/(math.exp(2*x) + 1)\n",
        "        out = Value(t, (self, ), 'tanh')\n",
        "\n",
        "        def _backward():\n",
        "          self.grad += (1 - t**2) * out.grad\n",
        "        out._backward = _backward\n",
        "        return out\n",
        "\n",
        "    def exp(self):\n",
        "      x = self.data\n",
        "      out = Value(math.exp(x), (self, ), 'exp')\n",
        "\n",
        "      def _backward():\n",
        "        self.grad += out.data * out.grad\n",
        "      out._backward = _backward\n",
        "\n",
        "      return out\n",
        "\n",
        "\n",
        "    def backward(self):\n",
        "\n",
        "      topo = []\n",
        "      visited = set()\n",
        "      def build_topo(v):\n",
        "        if v not in visited:\n",
        "          visited.add(v)\n",
        "          for child in v._prev:\n",
        "            build_topo(child)\n",
        "          topo.append(v)\n",
        "      build_topo(self)\n",
        "      self.grad = 1.0\n",
        "\n",
        "      for node in reversed(topo):\n",
        "        node._backward()\n",
        "\n",
        "\n",
        "\n",
        "\n",
        "\n"
      ]
    },
    {
      "cell_type": "code",
      "source": [
        "# !pip install graphviz\n",
        "\n",
        "from graphviz import Digraph\n",
        "\n",
        "def trace(root):   # Finds all nodes and edges in the computation graph\n",
        "    nodes, edges = set(), set()\n",
        "    def build(v):\n",
        "        if v not in nodes:\n",
        "            nodes.add(v)\n",
        "            for child in v._prev:\n",
        "                edges.add((child, v))\n",
        "                build(child)\n",
        "    build(root)\n",
        "    return nodes, edges\n",
        "\n",
        "def draw_dot(root):  # Uses Graphviz to draw a visual graph\n",
        "    dot = Digraph(format='svg', graph_attr={'rankdir': 'LR'})  # layout goes Left to Right (instead of top to bottom)\n",
        "\n",
        "    nodes, edges = trace(root)  #Get all nodes and edges\n",
        "    for n in nodes: #Loop through nodes and draw them\n",
        "        uid = str(id(n))  # gives a unique ID for each node (based on memory address)\n",
        "        dot.node(name = uid, label = \"{%s | data %.4f | grad %.4f }\" % (n.label, n.data, n.grad ), shape= 'record')\n",
        "        if n._op:\n",
        "            dot.node(name = uid + n._op, label = n._op)\n",
        "            dot.edge(uid + n._op, uid)\n",
        "    for n1, n2 in edges:  #draw the edges From input node n1 To the operation node that created n2\n",
        "        dot.edge(str(id(n1)), str(id(n2)) + n2._op)\n",
        "\n",
        "    return dot  #returns the Graphviz object so you can render or display it."
      ],
      "metadata": {
        "id": "Xv2QXE6327sl"
      },
      "execution_count": 108,
      "outputs": []
    },
    {
      "cell_type": "code",
      "source": [
        "draw_dot(L)"
      ],
      "metadata": {
        "colab": {
          "base_uri": "https://localhost:8080/",
          "height": 249
        },
        "id": "DPW9auLD3CZI",
        "outputId": "76ed8b0a-0dba-482a-d9d4-24d6363f592a"
      },
      "execution_count": null,
      "outputs": [
        {
          "output_type": "execute_result",
          "data": {
            "image/svg+xml": "<?xml version=\"1.0\" encoding=\"UTF-8\" standalone=\"no\"?>\n<!DOCTYPE svg PUBLIC \"-//W3C//DTD SVG 1.1//EN\"\n \"http://www.w3.org/Graphics/SVG/1.1/DTD/svg11.dtd\">\n<!-- Generated by graphviz version 2.43.0 (0)\n -->\n<!-- Title: %3 Pages: 1 -->\n<svg width=\"1148pt\" height=\"156pt\"\n viewBox=\"0.00 0.00 1148.00 156.00\" xmlns=\"http://www.w3.org/2000/svg\" xmlns:xlink=\"http://www.w3.org/1999/xlink\">\n<g id=\"graph0\" class=\"graph\" transform=\"scale(1 1) rotate(0) translate(4 152)\">\n<title>%3</title>\n<polygon fill=\"white\" stroke=\"transparent\" points=\"-4,4 -4,-152 1144,-152 1144,4 -4,4\"/>\n<!-- 135257873565712 -->\n<g id=\"node1\" class=\"node\">\n<title>135257873565712</title>\n<polygon fill=\"none\" stroke=\"black\" points=\"0.5,-111.5 0.5,-147.5 189.5,-147.5 189.5,-111.5 0.5,-111.5\"/>\n<text text-anchor=\"middle\" x=\"12\" y=\"-125.8\" font-family=\"Times,serif\" font-size=\"14.00\">a</text>\n<polyline fill=\"none\" stroke=\"black\" points=\"23.5,-111.5 23.5,-147.5 \"/>\n<text text-anchor=\"middle\" x=\"63.5\" y=\"-125.8\" font-family=\"Times,serif\" font-size=\"14.00\">data 2.0000</text>\n<polyline fill=\"none\" stroke=\"black\" points=\"103.5,-111.5 103.5,-147.5 \"/>\n<text text-anchor=\"middle\" x=\"146.5\" y=\"-125.8\" font-family=\"Times,serif\" font-size=\"14.00\">grad &#45;9.0000</text>\n</g>\n<!-- 135257873577360* -->\n<g id=\"node10\" class=\"node\">\n<title>135257873577360*</title>\n<ellipse fill=\"none\" stroke=\"black\" cx=\"253\" cy=\"-101.5\" rx=\"27\" ry=\"18\"/>\n<text text-anchor=\"middle\" x=\"253\" y=\"-97.8\" font-family=\"Times,serif\" font-size=\"14.00\">*</text>\n</g>\n<!-- 135257873565712&#45;&gt;135257873577360* -->\n<g id=\"edge5\" class=\"edge\">\n<title>135257873565712&#45;&gt;135257873577360*</title>\n<path fill=\"none\" stroke=\"black\" d=\"M189.9,-112.65C199.42,-110.94 208.62,-109.29 216.89,-107.8\"/>\n<polygon fill=\"black\" stroke=\"black\" points=\"217.59,-111.23 226.81,-106.02 216.35,-104.34 217.59,-111.23\"/>\n</g>\n<!-- 135257873579536 -->\n<g id=\"node2\" class=\"node\">\n<title>135257873579536</title>\n<polygon fill=\"none\" stroke=\"black\" points=\"318.5,-28.5 318.5,-64.5 503.5,-64.5 503.5,-28.5 318.5,-28.5\"/>\n<text text-anchor=\"middle\" x=\"330\" y=\"-42.8\" font-family=\"Times,serif\" font-size=\"14.00\">c</text>\n<polyline fill=\"none\" stroke=\"black\" points=\"341.5,-28.5 341.5,-64.5 \"/>\n<text text-anchor=\"middle\" x=\"381.5\" y=\"-42.8\" font-family=\"Times,serif\" font-size=\"14.00\">data 4.0000</text>\n<polyline fill=\"none\" stroke=\"black\" points=\"421.5,-28.5 421.5,-64.5 \"/>\n<text text-anchor=\"middle\" x=\"462.5\" y=\"-42.8\" font-family=\"Times,serif\" font-size=\"14.00\">grad 3.0000</text>\n</g>\n<!-- 135257873576080+ -->\n<g id=\"node6\" class=\"node\">\n<title>135257873576080+</title>\n<ellipse fill=\"none\" stroke=\"black\" cx=\"569\" cy=\"-73.5\" rx=\"27\" ry=\"18\"/>\n<text text-anchor=\"middle\" x=\"569\" y=\"-69.8\" font-family=\"Times,serif\" font-size=\"14.00\">+</text>\n</g>\n<!-- 135257873579536&#45;&gt;135257873576080+ -->\n<g id=\"edge9\" class=\"edge\">\n<title>135257873579536&#45;&gt;135257873576080+</title>\n<path fill=\"none\" stroke=\"black\" d=\"M503.65,-62.36C513.94,-64.14 523.91,-65.87 532.81,-67.41\"/>\n<polygon fill=\"black\" stroke=\"black\" points=\"532.26,-70.87 542.71,-69.12 533.45,-63.97 532.26,-70.87\"/>\n</g>\n<!-- 135257873061264 -->\n<g id=\"node3\" class=\"node\">\n<title>135257873061264</title>\n<polygon fill=\"none\" stroke=\"black\" points=\"948,-27.5 948,-63.5 1140,-63.5 1140,-27.5 948,-27.5\"/>\n<text text-anchor=\"middle\" x=\"960.5\" y=\"-41.8\" font-family=\"Times,serif\" font-size=\"14.00\">L</text>\n<polyline fill=\"none\" stroke=\"black\" points=\"973,-27.5 973,-63.5 \"/>\n<text text-anchor=\"middle\" x=\"1015.5\" y=\"-41.8\" font-family=\"Times,serif\" font-size=\"14.00\">data &#45;6.0000</text>\n<polyline fill=\"none\" stroke=\"black\" points=\"1058,-27.5 1058,-63.5 \"/>\n<text text-anchor=\"middle\" x=\"1099\" y=\"-41.8\" font-family=\"Times,serif\" font-size=\"14.00\">grad 1.0000</text>\n</g>\n<!-- 135257873061264* -->\n<g id=\"node4\" class=\"node\">\n<title>135257873061264*</title>\n<ellipse fill=\"none\" stroke=\"black\" cx=\"885\" cy=\"-45.5\" rx=\"27\" ry=\"18\"/>\n<text text-anchor=\"middle\" x=\"885\" y=\"-41.8\" font-family=\"Times,serif\" font-size=\"14.00\">*</text>\n</g>\n<!-- 135257873061264*&#45;&gt;135257873061264 -->\n<g id=\"edge1\" class=\"edge\">\n<title>135257873061264*&#45;&gt;135257873061264</title>\n<path fill=\"none\" stroke=\"black\" d=\"M912.28,-45.5C919.78,-45.5 928.44,-45.5 937.67,-45.5\"/>\n<polygon fill=\"black\" stroke=\"black\" points=\"937.87,-49 947.87,-45.5 937.87,-42 937.87,-49\"/>\n</g>\n<!-- 135257873576080 -->\n<g id=\"node5\" class=\"node\">\n<title>135257873576080</title>\n<polygon fill=\"none\" stroke=\"black\" points=\"632,-55.5 632,-91.5 822,-91.5 822,-55.5 632,-55.5\"/>\n<text text-anchor=\"middle\" x=\"643.5\" y=\"-69.8\" font-family=\"Times,serif\" font-size=\"14.00\">d</text>\n<polyline fill=\"none\" stroke=\"black\" points=\"655,-55.5 655,-91.5 \"/>\n<text text-anchor=\"middle\" x=\"697.5\" y=\"-69.8\" font-family=\"Times,serif\" font-size=\"14.00\">data &#45;2.0000</text>\n<polyline fill=\"none\" stroke=\"black\" points=\"740,-55.5 740,-91.5 \"/>\n<text text-anchor=\"middle\" x=\"781\" y=\"-69.8\" font-family=\"Times,serif\" font-size=\"14.00\">grad 3.0000</text>\n</g>\n<!-- 135257873576080&#45;&gt;135257873061264* -->\n<g id=\"edge4\" class=\"edge\">\n<title>135257873576080&#45;&gt;135257873061264*</title>\n<path fill=\"none\" stroke=\"black\" d=\"M822.34,-56.57C831.62,-54.9 840.58,-53.29 848.66,-51.84\"/>\n<polygon fill=\"black\" stroke=\"black\" points=\"849.49,-55.25 858.72,-50.04 848.26,-48.36 849.49,-55.25\"/>\n</g>\n<!-- 135257873576080+&#45;&gt;135257873576080 -->\n<g id=\"edge2\" class=\"edge\">\n<title>135257873576080+&#45;&gt;135257873576080</title>\n<path fill=\"none\" stroke=\"black\" d=\"M596.11,-73.5C603.63,-73.5 612.32,-73.5 621.58,-73.5\"/>\n<polygon fill=\"black\" stroke=\"black\" points=\"621.81,-77 631.81,-73.5 621.81,-70 621.81,-77\"/>\n</g>\n<!-- 135257873056016 -->\n<g id=\"node7\" class=\"node\">\n<title>135257873056016</title>\n<polygon fill=\"none\" stroke=\"black\" points=\"633.5,-0.5 633.5,-36.5 820.5,-36.5 820.5,-0.5 633.5,-0.5\"/>\n<text text-anchor=\"middle\" x=\"644\" y=\"-14.8\" font-family=\"Times,serif\" font-size=\"14.00\">f</text>\n<polyline fill=\"none\" stroke=\"black\" points=\"654.5,-0.5 654.5,-36.5 \"/>\n<text text-anchor=\"middle\" x=\"694.5\" y=\"-14.8\" font-family=\"Times,serif\" font-size=\"14.00\">data 3.0000</text>\n<polyline fill=\"none\" stroke=\"black\" points=\"734.5,-0.5 734.5,-36.5 \"/>\n<text text-anchor=\"middle\" x=\"777.5\" y=\"-14.8\" font-family=\"Times,serif\" font-size=\"14.00\">grad &#45;2.0000</text>\n</g>\n<!-- 135257873056016&#45;&gt;135257873061264* -->\n<g id=\"edge8\" class=\"edge\">\n<title>135257873056016&#45;&gt;135257873061264*</title>\n<path fill=\"none\" stroke=\"black\" d=\"M820.55,-34.52C830.44,-36.23 840,-37.89 848.58,-39.37\"/>\n<polygon fill=\"black\" stroke=\"black\" points=\"848.05,-42.83 858.5,-41.09 849.25,-35.93 848.05,-42.83\"/>\n</g>\n<!-- 135257873575312 -->\n<g id=\"node8\" class=\"node\">\n<title>135257873575312</title>\n<polygon fill=\"none\" stroke=\"black\" points=\"0,-56.5 0,-92.5 190,-92.5 190,-56.5 0,-56.5\"/>\n<text text-anchor=\"middle\" x=\"11.5\" y=\"-70.8\" font-family=\"Times,serif\" font-size=\"14.00\">b</text>\n<polyline fill=\"none\" stroke=\"black\" points=\"23,-56.5 23,-92.5 \"/>\n<text text-anchor=\"middle\" x=\"65.5\" y=\"-70.8\" font-family=\"Times,serif\" font-size=\"14.00\">data &#45;3.0000</text>\n<polyline fill=\"none\" stroke=\"black\" points=\"108,-56.5 108,-92.5 \"/>\n<text text-anchor=\"middle\" x=\"149\" y=\"-70.8\" font-family=\"Times,serif\" font-size=\"14.00\">grad 6.0000</text>\n</g>\n<!-- 135257873575312&#45;&gt;135257873577360* -->\n<g id=\"edge6\" class=\"edge\">\n<title>135257873575312&#45;&gt;135257873577360*</title>\n<path fill=\"none\" stroke=\"black\" d=\"M190.34,-90.83C199.62,-92.44 208.58,-93.99 216.66,-95.38\"/>\n<polygon fill=\"black\" stroke=\"black\" points=\"216.27,-98.87 226.72,-97.12 217.46,-91.97 216.27,-98.87\"/>\n</g>\n<!-- 135257873577360 -->\n<g id=\"node9\" class=\"node\">\n<title>135257873577360</title>\n<polygon fill=\"none\" stroke=\"black\" points=\"316,-83.5 316,-119.5 506,-119.5 506,-83.5 316,-83.5\"/>\n<text text-anchor=\"middle\" x=\"327.5\" y=\"-97.8\" font-family=\"Times,serif\" font-size=\"14.00\">e</text>\n<polyline fill=\"none\" stroke=\"black\" points=\"339,-83.5 339,-119.5 \"/>\n<text text-anchor=\"middle\" x=\"381.5\" y=\"-97.8\" font-family=\"Times,serif\" font-size=\"14.00\">data &#45;6.0000</text>\n<polyline fill=\"none\" stroke=\"black\" points=\"424,-83.5 424,-119.5 \"/>\n<text text-anchor=\"middle\" x=\"465\" y=\"-97.8\" font-family=\"Times,serif\" font-size=\"14.00\">grad 3.0000</text>\n</g>\n<!-- 135257873577360&#45;&gt;135257873576080+ -->\n<g id=\"edge7\" class=\"edge\">\n<title>135257873577360&#45;&gt;135257873576080+</title>\n<path fill=\"none\" stroke=\"black\" d=\"M506.34,-84.57C515.62,-82.9 524.58,-81.29 532.66,-79.84\"/>\n<polygon fill=\"black\" stroke=\"black\" points=\"533.49,-83.25 542.72,-78.04 532.26,-76.36 533.49,-83.25\"/>\n</g>\n<!-- 135257873577360*&#45;&gt;135257873577360 -->\n<g id=\"edge3\" class=\"edge\">\n<title>135257873577360*&#45;&gt;135257873577360</title>\n<path fill=\"none\" stroke=\"black\" d=\"M280.11,-101.5C287.63,-101.5 296.32,-101.5 305.58,-101.5\"/>\n<polygon fill=\"black\" stroke=\"black\" points=\"305.81,-105 315.81,-101.5 305.81,-98 305.81,-105\"/>\n</g>\n</g>\n</svg>\n",
            "text/plain": [
              "<graphviz.graphs.Digraph at 0x7b042d7eead0>"
            ]
          },
          "metadata": {},
          "execution_count": 83
        }
      ]
    },
    {
      "cell_type": "code",
      "source": [
        "import torch\n",
        "\n",
        "\n",
        "x1 = torch.Tensor([2.0]).double()  ; x1.requires_grad = True\n",
        "x2 = torch.Tensor([0.0]).double()  ; x2.requires_grad = True\n",
        "w1 = torch.Tensor([-3.0]).double()  ; w1.requires_grad = True\n",
        "w2 = torch.Tensor([1.0]).double()  ; w2.requires_grad = True\n",
        "b = torch.Tensor([6.8813735870195432]).double()  ; b.requires_grad = True\n",
        "n = x1*w1 + x2*w2 + b\n",
        "o = torch.tanh(n)\n",
        "\n",
        "print(o.data.item())\n",
        "o.backward()\n",
        "\n",
        "print('_____')\n",
        "print('x2' , x2.grad.item())\n",
        "print('w2' , w2.grad.item())\n",
        "print('x1' , x1.grad.item())\n",
        "print('w2' , w2.grad.item())\n"
      ],
      "metadata": {
        "id": "5-IYqqv8puXU",
        "colab": {
          "base_uri": "https://localhost:8080/"
        },
        "outputId": "a1eb0806-4794-4036-a935-0c2fbe83eb0e"
      },
      "execution_count": 114,
      "outputs": [
        {
          "output_type": "stream",
          "name": "stdout",
          "text": [
            "0.7071066904050358\n",
            "_____\n",
            "x2 0.5000001283844369\n",
            "w2 0.0\n",
            "x1 -1.5000003851533106\n",
            "w2 0.0\n"
          ]
        }
      ]
    },
    {
      "cell_type": "code",
      "source": [
        "from typing_extensions import ParamSpec\n",
        "import numpy as np\n",
        "import random\n",
        "\n",
        "class Neuron:\n",
        "  def __init__(self, nin):\n",
        "    self.w = [Value(random.uniform(-1, 1)) for _ in range(nin)]\n",
        "    self.b = Value(random.uniform(-1, 1))\n",
        "\n",
        "  def __call__(self, x):\n",
        "    act = sum((wi * xi for wi, xi in zip(self.w, x)), self.b)\n",
        "    out = act.tanh()\n",
        "    return out\n",
        "\n",
        "  def parameters(self):\n",
        "    return self.w + [self.b]\n",
        "\n",
        "class Layer:\n",
        "  def  __init__(self, nin, nout):\n",
        "    self.neurons = [Neuron(nin) for _ in range(nout)]\n",
        "\n",
        "  def __call__(self, x):\n",
        "    outs = [n(x) for n in self.neurons]\n",
        "    return outs[0] if len(outs) == 1 else outs\n",
        "\n",
        "  def parameters(self):\n",
        "    return [p for neuron in self.neurons for p in neuron.parameters()]\n",
        "\n",
        "\n",
        "\n",
        "class MLP:\n",
        "  def __init__(self, nin, nouts):\n",
        "    sz = [nin] + nouts\n",
        "    self.layers = [Layer(sz[i], sz[i+1]) for i in range(len(nouts))]\n",
        "\n",
        "  def __call__(self, x):\n",
        "    for layer in self.layers:\n",
        "      x = layer(x)\n",
        "    return x\n",
        "\n",
        "  def parameters(self):\n",
        "    return [p for layer in self.layers for p in layer.parameters()]\n",
        "\n",
        "\n"
      ],
      "metadata": {
        "id": "8SovESzGMpL-"
      },
      "execution_count": 156,
      "outputs": []
    },
    {
      "cell_type": "code",
      "source": [
        "n = MLP(3, [4, 4, 1])"
      ],
      "metadata": {
        "id": "-93hahcNvVUu"
      },
      "execution_count": 157,
      "outputs": []
    },
    {
      "cell_type": "code",
      "source": [
        "xs=[[ 1.8,  0.8,  2.5],\n",
        " [ 1. ,  1.4,  0.9],\n",
        " [ 2.7,  0.8, -0.7],\n",
        " [ 2.5, -0.4,  2.4]]\n",
        "\n",
        "ys =[-1.,  1.,  1., -1.]\n"
      ],
      "metadata": {
        "id": "uAUYsvQGqQmS"
      },
      "execution_count": 167,
      "outputs": []
    },
    {
      "cell_type": "code",
      "source": [
        "ypred = [n(x) for x in xs]\n",
        "loss = sum((yout - ygt)**2 for yout, ygt in zip(ypred, ys))\n",
        "loss"
      ],
      "metadata": {
        "colab": {
          "base_uri": "https://localhost:8080/"
        },
        "id": "7Gd_oBz0rI1j",
        "outputId": "01c805aa-a4db-4711-a107-98efb3f1e28e"
      },
      "execution_count": 168,
      "outputs": [
        {
          "output_type": "execute_result",
          "data": {
            "text/plain": [
              "Value(data=4.707476091125859)"
            ]
          },
          "metadata": {},
          "execution_count": 168
        }
      ]
    },
    {
      "cell_type": "code",
      "source": [
        "for k in range(30):\n",
        "  ypred = [n(x) for x in xs]\n",
        "  loss = sum((yout - ygt)**2 for yout, ygt in zip(ypred, ys))\n",
        "\n",
        "  #backward pass\n",
        "  for p in n.parameters():\n",
        "    p.grad = 0.0\n",
        "  loss.backward()\n",
        "\n",
        "  #update the parameters\n",
        "  for p in n.parameters():\n",
        "    p.data += -0.05 * p.grad\n",
        "\n",
        "  print(k, loss.data)\n"
      ],
      "metadata": {
        "colab": {
          "base_uri": "https://localhost:8080/"
        },
        "id": "f5Bcs0Ipw4L2",
        "outputId": "9ed3bead-19e0-4e4c-a2ad-cfb927b40971"
      },
      "execution_count": 218,
      "outputs": [
        {
          "output_type": "stream",
          "name": "stdout",
          "text": [
            "0 0.002804610035181428\n",
            "1 0.0027960242347275775\n",
            "2 0.002787488921494568\n",
            "3 0.0027790036579631553\n",
            "4 0.0027705680116144374\n",
            "5 0.0027621815548590093\n",
            "6 0.002753843864967243\n",
            "7 0.0027455545240008166\n",
            "8 0.002737313118745377\n",
            "9 0.0027291192406443477\n",
            "10 0.0027209724857337374\n",
            "11 0.0027128724545782495\n",
            "12 0.0027048187522081624\n",
            "13 0.002696810988057582\n",
            "14 0.0026888487759033817\n",
            "15 0.0026809317338054375\n",
            "16 0.0026730594840477036\n",
            "17 0.002665231653080234\n",
            "18 0.0026574478714622178\n",
            "19 0.0026497077738059215\n",
            "20 0.0026420109987215262\n",
            "21 0.002634357188762905\n",
            "22 0.0026267459903742112\n",
            "23 0.002619177053837401\n",
            "24 0.002611650033220523\n",
            "25 0.0026041645863269054\n",
            "26 0.0025967203746451455\n",
            "27 0.0025893170632998574\n",
            "28 0.0025819543210032366\n",
            "29 0.0025746318200073953\n"
          ]
        }
      ]
    },
    {
      "cell_type": "code",
      "source": [
        "ypred = [n(x) for x in xs]\n",
        "ypred"
      ],
      "metadata": {
        "colab": {
          "base_uri": "https://localhost:8080/"
        },
        "id": "OMQ-eMfx0l1S",
        "outputId": "eb799ea2-3dec-4808-d820-29f7987d5041"
      },
      "execution_count": 219,
      "outputs": [
        {
          "output_type": "execute_result",
          "data": {
            "text/plain": [
              "[Value(data=-0.9709047586816484),\n",
              " Value(data=0.9723843489578956),\n",
              " Value(data=0.9772344641694489),\n",
              " Value(data=-0.9790256736805938)]"
            ]
          },
          "metadata": {},
          "execution_count": 219
        }
      ]
    }
  ]
}